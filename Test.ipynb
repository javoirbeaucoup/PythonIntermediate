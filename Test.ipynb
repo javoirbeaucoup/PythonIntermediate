{
 "cells": [
  {
   "cell_type": "markdown",
   "metadata": {},
   "source": [
    "# Task 1: Defining a function, using dictionaries and if statements\n",
    "\n",
    "Write a small function that classifies a fruit represented by a dictionary like\n",
    "                          \n",
    "                          {'color':'green','size':'big'}\n",
    "                           \n",
    "by its color and size using a decision tree.\n",
    "\n",
    "The output is 'apple' if the size of the fruit equals 'medium' and its color is 'green'. The output is 'watermelon' if the fruit is 'green' and 'big'. Otherwise it is just 'other'."
   ]
  },
  {
   "cell_type": "code",
   "execution_count": null,
   "metadata": {},
   "outputs": [],
   "source": [
    "def classifier(fruit):\n",
    "    decision = None\n",
    "    # your code\n",
    "    return decision"
   ]
  },
  {
   "cell_type": "code",
   "execution_count": null,
   "metadata": {},
   "outputs": [],
   "source": [
    "# Test it on this fruit:\n",
    "watermelon = {'color':'green','size':'big'}\n",
    "classifier(watermelon)"
   ]
  },
  {
   "cell_type": "markdown",
   "metadata": {},
   "source": [
    "# Task 2: For-loop\n",
    "\n",
    "Use your function to output a list of the types of the following fruits using a for-loop:"
   ]
  },
  {
   "cell_type": "code",
   "execution_count": null,
   "metadata": {},
   "outputs": [],
   "source": [
    "fruits = [{'color':'green','size':'big'},\n",
    "        {'color':'yellow','shape':'round','size':'big'},\n",
    "        {'color':'red','size':'medium'},\n",
    "        {'color':'green','size':'big'},\n",
    "        {'color':'red','size':'small','taste':'sour'},\n",
    "        {'color':'green','size':'small'}]"
   ]
  },
  {
   "cell_type": "code",
   "execution_count": null,
   "metadata": {},
   "outputs": [],
   "source": [
    "# your code"
   ]
  },
  {
   "cell_type": "markdown",
   "metadata": {},
   "source": [
    "The output should be\n",
    "\n",
    "                        ['watermelon', 'other', 'other', 'watermelon', 'other', 'other']"
   ]
  }
 ],
 "metadata": {
  "kernelspec": {
   "display_name": "Python 3",
   "language": "python",
   "name": "python3"
  },
  "language_info": {
   "codemirror_mode": {
    "name": "ipython",
    "version": 3
   },
   "file_extension": ".py",
   "mimetype": "text/x-python",
   "name": "python",
   "nbconvert_exporter": "python",
   "pygments_lexer": "ipython3",
   "version": "3.6.5"
  }
 },
 "nbformat": 4,
 "nbformat_minor": 2
}
